{
 "metadata": {
  "name": "",
  "signature": "sha256:5a984e4f7d986dd1e78b9666ec133f31540893f3841ee8b52ef9403816c88e50"
 },
 "nbformat": 3,
 "nbformat_minor": 0,
 "worksheets": [
  {
   "cells": [
    {
     "cell_type": "code",
     "collapsed": false,
     "input": [
      "import numpy as np\n",
      "from matplotlib import pyplot as plt\n",
      "from reikna import cluda\n",
      "from reikna.fft import FFT \n",
      "%matplotlib inline\n",
      "\n",
      "class TestClass(object):\n",
      "    def __init__(self, shape=(64,64), dtype=np.float32):\n",
      "        assert dtype in [np.float32, np.float64]\n",
      "        self.dtype = dtype\n",
      "        if dtype==np.float32:\n",
      "            self.cdtype = np.complex64\n",
      "        elif dtype==np.float64:\n",
      "            self.cdtype = np.complex128\n",
      "        self.shape = shape\n",
      "        self.test_data = np.random.rand(*self.shape).astype(self.dtype)\n",
      "        \n",
      "        # set up gpu stuff\n",
      "        api = cluda.ocl_api()\n",
      "        self.thr = api.Thread.create()\n",
      "        dummy_data_dev = self.thr.array(self.shape, self.cdtype)\n",
      "        # compile fft\n",
      "        self.rfft = FFT(dummy_data_dev).compile(self.thr)\n",
      "        \n",
      "    def _rfft2(self, q, fwd=1):\n",
      "        # the compiled function object\n",
      "        input_dev = self.thr.to_device(q)\n",
      "        output_dev = self.thr.array(self.shape, self.cdtype)\n",
      "        # forward fft\n",
      "        self.rfft(output_dev, input_dev, fwd)\n",
      "        self.thr.synchronize()\n",
      "        return output_dev.get()\n",
      "    \n",
      "    def calc_rfft2(self):\n",
      "        return self._rfft2(self.test_data, 1)\n",
      "    \n",
      "    def calc_fwdbk_fft2r(self):\n",
      "        return self._rfft2(self._rfft2(self.test_data, 1), 0)\n",
      "\n",
      "    def calc_fft2(self):\n",
      "        return np.fft.fftn(self.test_data)\n",
      "\n",
      "    def calc_fwdbk_fft2(self):\n",
      "        return np.fft.ifftn(np.fft.fftn(self.test_data))\n",
      "    \n",
      "    "
     ],
     "language": "python",
     "metadata": {},
     "outputs": [],
     "prompt_number": 1
    },
    {
     "cell_type": "code",
     "collapsed": false,
     "input": [
      "from time import time\n",
      "\n",
      "nloops = 30\n",
      "resolutions = 2**np.arange(4,13)\n",
      "N = len(resolutions)\n",
      "speed_rk = np.empty((N,nloops))\n",
      "speed_np = np.empty((N,nloops))\n",
      "\n",
      "for n in range(N):\n",
      "    nx = resolutions[n]\n",
      "    tc = TestClass(shape=(nx,nx))\n",
      "    for m in range(nloops):\n",
      "        t0 = time()\n",
      "        a = tc.calc_rfft2()\n",
      "        speed_rk[n,m] = time() - t0\n",
      "        t0 = time()\n",
      "        b = tc.calc_fft2()\n",
      "        speed_np[n,m] = time() - t0\n",
      "    \n",
      "    "
     ],
     "language": "python",
     "metadata": {},
     "outputs": [],
     "prompt_number": 122
    },
    {
     "cell_type": "code",
     "collapsed": false,
     "input": [
      "ax = plt.subplot(111)\n",
      "ax.errorbar(resolutions,\n",
      "        speed_np.mean(axis=1)/nloops, yerr=speed_np.std(axis=1)/nloops)\n",
      "ax.errorbar(resolutions,\n",
      "        speed_rk.mean(axis=1)/nloops, yerr=speed_rk.std(axis=1)/nloops)\n",
      "ax.set_yscale('log')\n",
      "ax.set_xscale('log', base=2)\n",
      "ax.set_xticks(resolutions)\n",
      "ax.set_xticklabels(resolutions)\n",
      "ax.grid()\n",
      "ax.legend(['numpy', 'reikna'], loc='upper left')\n",
      "plt.xlabel('resolution')\n",
      "plt.ylabel('speed (s)')\n",
      "plt.title('2D FFT Speed Comparison')"
     ],
     "language": "python",
     "metadata": {},
     "outputs": [
      {
       "metadata": {},
       "output_type": "pyout",
       "prompt_number": 123,
       "text": [
        "<matplotlib.text.Text at 0x11456aa10>"
       ]
      },
      {
       "metadata": {},
       "output_type": "display_data",
       "png": "[encoded data removed]",
       "text": [
        "<matplotlib.figure.Figure at 0x113022910>"
       ]
      }
     ],
     "prompt_number": 123
    },
    {
     "cell_type": "code",
     "collapsed": false,
     "input": [
      "resolutions"
     ],
     "language": "python",
     "metadata": {},
     "outputs": [
      {
       "metadata": {},
       "output_type": "pyout",
       "prompt_number": 77,
       "text": [
        "array([  16,   32,   64,  128,  256,  512, 1024, 2048])"
       ]
      }
     ],
     "prompt_number": 77
    },
    {
     "cell_type": "code",
     "collapsed": false,
     "input": [
      "tc = TestClass(shape=(8,8))\n",
      "a = tc.calc_rfft2()\n",
      "b = tc.calc_fft2()\n",
      "ai = tc.calc_fwdbk_fft2()\n",
      "bi = tc.calc_fwdbk_fft2r()\n",
      "print ai[2,3]\n",
      "print bi[2,3]\n",
      "np.testing.assert_allclose(tc.test_data,ai)\n",
      "np.testing.assert_allclose(tc.test_data,bi)\n",
      "np.testing.assert_allclose(a,b)"
     ],
     "language": "python",
     "metadata": {},
     "outputs": [
      {
       "output_type": "stream",
       "stream": "stdout",
       "text": [
        "(0.791541039944-4.28779072636e-16j)\n",
        "(0.455903+0.490704j)\n"
       ]
      },
      {
       "ename": "AssertionError",
       "evalue": "\nNot equal to tolerance rtol=1e-07, atol=0\n\n(mismatch 100.0%)\n x: array([[ 0.17823415,  0.78680956,  0.18106663,  0.70588923,  0.23334768,\n         0.81106263,  0.22481866,  0.76549649],\n       [ 0.89099687,  0.74583334,  0.06796454,  0.14935006,  0.19388823,...\n y: array([[  1.78234160e-01 +7.86809564e-01j,\n          1.81066662e-01 +7.05889225e-01j,\n          2.33347684e-01 +8.11062574e-01j,...",
       "output_type": "pyerr",
       "traceback": [
        "\u001b[0;31m---------------------------------------------------------------------------\u001b[0m\n\u001b[0;31mAssertionError\u001b[0m                            Traceback (most recent call last)",
        "\u001b[0;32m<ipython-input-134-9e4bc61c3cb9>\u001b[0m in \u001b[0;36m<module>\u001b[0;34m()\u001b[0m\n\u001b[1;32m      7\u001b[0m \u001b[0;32mprint\u001b[0m \u001b[0mbi\u001b[0m\u001b[0;34m[\u001b[0m\u001b[0;36m2\u001b[0m\u001b[0;34m,\u001b[0m\u001b[0;36m3\u001b[0m\u001b[0;34m]\u001b[0m\u001b[0;34m\u001b[0m\u001b[0m\n\u001b[1;32m      8\u001b[0m \u001b[0mnp\u001b[0m\u001b[0;34m.\u001b[0m\u001b[0mtesting\u001b[0m\u001b[0;34m.\u001b[0m\u001b[0massert_allclose\u001b[0m\u001b[0;34m(\u001b[0m\u001b[0mtc\u001b[0m\u001b[0;34m.\u001b[0m\u001b[0mtest_data\u001b[0m\u001b[0;34m,\u001b[0m\u001b[0mai\u001b[0m\u001b[0;34m)\u001b[0m\u001b[0;34m\u001b[0m\u001b[0m\n\u001b[0;32m----> 9\u001b[0;31m \u001b[0mnp\u001b[0m\u001b[0;34m.\u001b[0m\u001b[0mtesting\u001b[0m\u001b[0;34m.\u001b[0m\u001b[0massert_allclose\u001b[0m\u001b[0;34m(\u001b[0m\u001b[0mtc\u001b[0m\u001b[0;34m.\u001b[0m\u001b[0mtest_data\u001b[0m\u001b[0;34m,\u001b[0m\u001b[0mbi\u001b[0m\u001b[0;34m)\u001b[0m\u001b[0;34m\u001b[0m\u001b[0m\n\u001b[0m\u001b[1;32m     10\u001b[0m \u001b[0mnp\u001b[0m\u001b[0;34m.\u001b[0m\u001b[0mtesting\u001b[0m\u001b[0;34m.\u001b[0m\u001b[0massert_allclose\u001b[0m\u001b[0;34m(\u001b[0m\u001b[0ma\u001b[0m\u001b[0;34m,\u001b[0m\u001b[0mb\u001b[0m\u001b[0;34m)\u001b[0m\u001b[0;34m\u001b[0m\u001b[0m\n",
        "\u001b[0;32m/Users/rpa/Library/Enthought/Canopy_64bit/User/lib/python2.7/site-packages/numpy/testing/utils.pyc\u001b[0m in \u001b[0;36massert_allclose\u001b[0;34m(actual, desired, rtol, atol, err_msg, verbose)\u001b[0m\n\u001b[1;32m   1179\u001b[0m     \u001b[0mheader\u001b[0m \u001b[0;34m=\u001b[0m \u001b[0;34m'Not equal to tolerance rtol=%g, atol=%g'\u001b[0m \u001b[0;34m%\u001b[0m \u001b[0;34m(\u001b[0m\u001b[0mrtol\u001b[0m\u001b[0;34m,\u001b[0m \u001b[0matol\u001b[0m\u001b[0;34m)\u001b[0m\u001b[0;34m\u001b[0m\u001b[0m\n\u001b[1;32m   1180\u001b[0m     assert_array_compare(compare, actual, desired, err_msg=str(err_msg),\n\u001b[0;32m-> 1181\u001b[0;31m                          verbose=verbose, header=header)\n\u001b[0m\u001b[1;32m   1182\u001b[0m \u001b[0;34m\u001b[0m\u001b[0m\n\u001b[1;32m   1183\u001b[0m \u001b[0;32mdef\u001b[0m \u001b[0massert_array_almost_equal_nulp\u001b[0m\u001b[0;34m(\u001b[0m\u001b[0mx\u001b[0m\u001b[0;34m,\u001b[0m \u001b[0my\u001b[0m\u001b[0;34m,\u001b[0m \u001b[0mnulp\u001b[0m\u001b[0;34m=\u001b[0m\u001b[0;36m1\u001b[0m\u001b[0;34m)\u001b[0m\u001b[0;34m:\u001b[0m\u001b[0;34m\u001b[0m\u001b[0m\n",
        "\u001b[0;32m/Users/rpa/Library/Enthought/Canopy_64bit/User/lib/python2.7/site-packages/numpy/testing/utils.pyc\u001b[0m in \u001b[0;36massert_array_compare\u001b[0;34m(comparison, x, y, err_msg, verbose, header)\u001b[0m\n\u001b[1;32m    642\u001b[0m                                 names=('x', 'y'))\n\u001b[1;32m    643\u001b[0m             \u001b[0;32mif\u001b[0m \u001b[0;32mnot\u001b[0m \u001b[0mcond\u001b[0m \u001b[0;34m:\u001b[0m\u001b[0;34m\u001b[0m\u001b[0m\n\u001b[0;32m--> 644\u001b[0;31m                 \u001b[0;32mraise\u001b[0m \u001b[0mAssertionError\u001b[0m\u001b[0;34m(\u001b[0m\u001b[0mmsg\u001b[0m\u001b[0;34m)\u001b[0m\u001b[0;34m\u001b[0m\u001b[0m\n\u001b[0m\u001b[1;32m    645\u001b[0m     \u001b[0;32mexcept\u001b[0m \u001b[0mValueError\u001b[0m \u001b[0;32mas\u001b[0m \u001b[0me\u001b[0m\u001b[0;34m:\u001b[0m\u001b[0;34m\u001b[0m\u001b[0m\n\u001b[1;32m    646\u001b[0m         \u001b[0;32mimport\u001b[0m \u001b[0mtraceback\u001b[0m\u001b[0;34m\u001b[0m\u001b[0m\n",
        "\u001b[0;31mAssertionError\u001b[0m: \nNot equal to tolerance rtol=1e-07, atol=0\n\n(mismatch 100.0%)\n x: array([[ 0.17823415,  0.78680956,  0.18106663,  0.70588923,  0.23334768,\n         0.81106263,  0.22481866,  0.76549649],\n       [ 0.89099687,  0.74583334,  0.06796454,  0.14935006,  0.19388823,...\n y: array([[  1.78234160e-01 +7.86809564e-01j,\n          1.81066662e-01 +7.05889225e-01j,\n          2.33347684e-01 +8.11062574e-01j,..."
       ]
      }
     ],
     "prompt_number": 134
    },
    {
     "cell_type": "code",
     "collapsed": false,
     "input": [
      "np.fft.fftn?"
     ],
     "language": "python",
     "metadata": {},
     "outputs": [],
     "prompt_number": 125
    },
    {
     "cell_type": "code",
     "collapsed": false,
     "input": [
      "time.time()"
     ],
     "language": "python",
     "metadata": {},
     "outputs": [
      {
       "metadata": {},
       "output_type": "pyout",
       "prompt_number": 60,
       "text": [
        "1407510019.825011"
       ]
      }
     ],
     "prompt_number": 60
    },
    {
     "cell_type": "code",
     "collapsed": false,
     "input": [
      "# copied straight from the Reikna tests\n",
      "dtype = np.complex64\n",
      "\n",
      "shape, axes = (1024,1024), (0,1)\n",
      "\n",
      "data = np.random.rand(*shape).astype(dtype)\n",
      "\n",
      "api = cluda.ocl_api()\n",
      "thr = api.Thread.create()\n",
      "fft = FFT(data, axes=axes)\n",
      "fftc = fft.compile(thr)\n",
      "\n",
      "# forward transform\n",
      "# Testing inplace transformation, because if this works,\n",
      "# then the out of place one will surely work too.\n",
      "data_dev = thr.to_device(data)\n",
      "fftc(data_dev, data_dev)\n",
      "fwd_ref = np.fft.fftn(data, axes=axes).astype(dtype)\n",
      "fwd = data_dev.get()\n",
      "diff_fwd = np.mean(np.abs(fwd - fwd_ref))\n",
      "print diff_fwd\n",
      "#np.testing.assert_allclose(, fwd_ref, rtol=1e-5)\n",
      "\n",
      "# inverse transform\n",
      "data_dev = thr.to_device(data)\n",
      "fftc(data_dev, data_dev, inverse=True)\n",
      "inv_ref = np.fft.ifftn(data, axes=axes).astype(dtype)\n",
      "inv = data_dev.get()\n",
      "diff_inv = np.mean(np.abs(inv - inv_ref))\n",
      "print diff_inv\n",
      "#np.testing.assert_allclose(data_dev.get(), inv_ref, rtol=1e-5)"
     ],
     "language": "python",
     "metadata": {},
     "outputs": [
      {
       "output_type": "stream",
       "stream": "stdout",
       "text": [
        "6.16394e-05\n",
        "5.87839e-11"
       ]
      },
      {
       "output_type": "stream",
       "stream": "stdout",
       "text": [
        "\n"
       ]
      }
     ],
     "prompt_number": 22
    },
    {
     "cell_type": "code",
     "collapsed": false,
     "input": [
      "(data * np.conj(data)).mean()"
     ],
     "language": "python",
     "metadata": {},
     "outputs": [
      {
       "metadata": {},
       "output_type": "pyout",
       "prompt_number": 24,
       "text": [
        "(0.33334118+0j)"
       ]
      }
     ],
     "prompt_number": 24
    },
    {
     "cell_type": "code",
     "collapsed": false,
     "input": [],
     "language": "python",
     "metadata": {},
     "outputs": []
    }
   ],
   "metadata": {}
  }
 ]
}